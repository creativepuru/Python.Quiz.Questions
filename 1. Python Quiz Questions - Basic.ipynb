{
 "cells": [
  {
   "cell_type": "markdown",
   "source": [
    "# || PYTHON QUIZ QUESTIONS | BASIC  ||\n",
    "# || Creator : Purushottam Anand (@creativepuru) ||\n",
    "# -----------------------------------------------------------------------------------"
   ],
   "metadata": {
    "collapsed": false
   }
  },
  {
   "cell_type": "markdown",
   "source": [
    "# Ques 1.  Which of the following are the type-casting methods in Python Programming language?\n",
    "# Ans. b"
   ],
   "metadata": {
    "collapsed": false
   }
  },
  {
   "cell_type": "code",
   "execution_count": 1,
   "metadata": {
    "collapsed": true,
    "ExecuteTime": {
     "start_time": "2023-04-19T23:46:16.393256Z",
     "end_time": "2023-04-19T23:46:16.420263Z"
    }
   },
   "outputs": [
    {
     "data": {
      "text/plain": "'1. int()\\n2. type()\\n3. float()\\n4. str()\\n\\nOptions :\\na. 1 and 2\\nb. 1, 3 and 4\\nc. 1, 2, and 3\\nd. 1,2,3 and 4 '"
     },
     "execution_count": 1,
     "metadata": {},
     "output_type": "execute_result"
    }
   ],
   "source": [
    "'''1. int()\n",
    "2. type()\n",
    "3. float()\n",
    "4. str()\n",
    "\n",
    "Options :\n",
    "a. 1 and 2\n",
    "b. 1, 3 and 4\n",
    "c. 1, 2, and 3\n",
    "d. 1,2,3 and 4 '''"
   ]
  },
  {
   "cell_type": "markdown",
   "source": [],
   "metadata": {
    "collapsed": false
   }
  },
  {
   "cell_type": "code",
   "execution_count": null,
   "outputs": [],
   "source": [],
   "metadata": {
    "collapsed": false
   }
  }
 ],
 "metadata": {
  "kernelspec": {
   "display_name": "Python 3",
   "language": "python",
   "name": "python3"
  },
  "language_info": {
   "codemirror_mode": {
    "name": "ipython",
    "version": 2
   },
   "file_extension": ".py",
   "mimetype": "text/x-python",
   "name": "python",
   "nbconvert_exporter": "python",
   "pygments_lexer": "ipython2",
   "version": "2.7.6"
  }
 },
 "nbformat": 4,
 "nbformat_minor": 0
}
